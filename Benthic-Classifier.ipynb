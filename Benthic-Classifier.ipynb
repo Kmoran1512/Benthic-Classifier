{
 "cells": [
  {
   "cell_type": "markdown",
   "id": "1aad3ce2-ffd2-4b18-b3ec-1c9d3ee97104",
   "metadata": {},
   "source": [
    "## Download and Format Images "
   ]
  },
  {
   "cell_type": "markdown",
   "id": "6a6935d0-6041-401c-917b-ff2141c8f24a",
   "metadata": {},
   "source": [
    "Decide below which \"concepts\" to include. These are the classes you want to be able to identify."
   ]
  },
  {
   "cell_type": "code",
   "execution_count": 1,
   "id": "73e358b8-07eb-43fd-857d-bba09e9fa7b4",
   "metadata": {},
   "outputs": [],
   "source": [
    "concepts_to_include = [\n",
    "    \"Asteroidea\",\n",
    "    \"Ophiuroidea\",\n",
    "]"
   ]
  },
  {
   "cell_type": "code",
   "execution_count": 2,
   "id": "80b8fb3b-947e-4df6-bdd2-b3c48fb045d4",
   "metadata": {},
   "outputs": [
    {
     "name": "stdout",
     "output_type": "stream",
     "text": [
      "100% (2667 of 2667) |####################| Elapsed Time: 1:00:05 Time:  1:00:05\n"
     ]
    }
   ],
   "source": [
    "# Download the images from the fathomnet database\n",
    "import os\n",
    "\n",
    "data_directory = os.path.join('datasets', 'sea_data')\n",
    "\n",
    "!fathomnet-generate -c '{', '.join(concepts_to_include)}' --format voc --img-download \"{os.path.join(data_directory, 'images')}\" --output \"{os.path.join(data_directory, 'labels')}\""
   ]
  },
  {
   "cell_type": "code",
   "execution_count": 3,
   "id": "cf1b0bc0-178b-4e56-ad9b-5fc9f3e42d77",
   "metadata": {},
   "outputs": [
    {
     "name": "stdout",
     "output_type": "stream",
     "text": [
      "Defaulting to user installation because normal site-packages is not writeable\n",
      "Requirement already satisfied: pyyaml in /usr/lib/python3/dist-packages (5.3.1)\n",
      "\u001b[33mDEPRECATION: distro-info 0.23ubuntu1 has a non-standard version number. pip 23.3 will enforce this behaviour change. A possible replacement is to upgrade to a newer version of distro-info or contact the author to suggest that they release a version with a conforming version number. Discussion can be found at https://github.com/pypa/pip/issues/12063\u001b[0m\u001b[33m\n",
      "\u001b[0m\u001b[33mDEPRECATION: python-debian 0.1.36ubuntu1 has a non-standard version number. pip 23.3 will enforce this behaviour change. A possible replacement is to upgrade to a newer version of python-debian or contact the author to suggest that they release a version with a conforming version number. Discussion can be found at https://github.com/pypa/pip/issues/12063\u001b[0m\u001b[33m\n",
      "\u001b[0m"
     ]
    }
   ],
   "source": [
    "# Build YAML\n",
    "# This is what YOLO uses to route to its data and read the txt files' labeling\n",
    "\n",
    "!pip install pyyaml\n",
    "import yaml\n",
    "\n",
    "train_dir = 'train'\n",
    "val_dir = 'train'\n",
    "test_dir = 'train'\n",
    "\n",
    "def createYamlFile(yaml_name='data'):\n",
    "    data = {\n",
    "        \"path\": 'sea_data',\n",
    "        \"train\": [os.path.join('images', train_dir)],\n",
    "        \"val\": [os.path.join('images', val_dir)],\n",
    "        \"test\": [os.path.join('images', test_dir)],\n",
    "        \"names\": {str(idx): class_name for idx, class_name in enumerate(concepts_to_include)}\n",
    "    }\n",
    "\n",
    "    with open(os.path.join(data_directory, f\"{yaml_name}.yaml\"), \"w\") as yaml_file:\n",
    "        yaml.dump(data, yaml_file, default_flow_style=False)\n",
    "\n",
    "createYamlFile()"
   ]
  },
  {
   "cell_type": "code",
   "execution_count": 4,
   "id": "507ec9a4-7932-4a86-b40d-51f317361de8",
   "metadata": {},
   "outputs": [],
   "source": [
    "import shutil\n",
    "\n",
    "def renameAndMoveImgPair(uid, new_id, dest_dir=train_dir):\n",
    "    curr_location = os.path.join(data_directory, 'images')\n",
    "    src_file = os.path.join(curr_location, f\"{uid}.png\")\n",
    "\n",
    "    file_exists = os.path.isfile(os.path.join(curr_location, f\"{uid}.png\"))\n",
    "    if not file_exists: return\n",
    "\n",
    "    os.makedirs(os.path.join(curr_location, dest_dir), exist_ok=True)\n",
    "    dest_file = os.path.join(curr_location, dest_dir, f\"{new_id}.png\")\n",
    "\n",
    "    shutil.move(src_file, dest_file)\n",
    "\n",
    "\n",
    "# renameAndMoveImgPair('0a1ee4e2-f85f-45ac-8cc6-1ce9299c6444', '001', train_dir)"
   ]
  },
  {
   "cell_type": "code",
   "execution_count": 5,
   "id": "dbb098ec-f831-43ea-809d-9719fb879ccf",
   "metadata": {},
   "outputs": [],
   "source": [
    "import xml.etree.ElementTree as ET\n",
    "import cv2\n",
    "\n",
    "def createTxtFile(uid, new_id, dest_dir=train_dir):\n",
    "    curr_location = os.path.join(data_directory, 'labels')\n",
    "    \n",
    "    tree = ET.parse(os.path.join(curr_location, f'{uid}.xml'))\n",
    "    root = tree.getroot()\n",
    "\n",
    "    file_destination = os.path.join(curr_location, dest_dir)\n",
    "    os.makedirs(file_destination, exist_ok=True)\n",
    "\n",
    "    image = cv2.imread(os.path.join(data_directory, 'images', dest_dir, f\"{new_id}.png\"))\n",
    "    img_height, img_width, _ = image.shape\n",
    "\n",
    "    with open(os.path.join(file_destination, f'{new_id}.txt'), 'w') as txt_file:\n",
    "        for obj in root.findall('.//object'):\n",
    "            name_key = concepts_to_include.index(obj.find('name').text)\n",
    "    \n",
    "            xmin = int(obj.find('bndbox/xmin').text)\n",
    "            ymin = int(obj.find('bndbox/ymin').text)\n",
    "            width = int(obj.find('bndbox/xmax').text) - xmin\n",
    "            height = int(obj.find('bndbox/ymax').text) - ymin\n",
    "    \n",
    "            line = f\"{name_key} {xmin / img_width:6f} {ymin / img_height:6f} {width / img_width:6f} {height / img_height:6f}\"\n",
    "            txt_file.write(line + '\\n')\n",
    "\n",
    "    os.remove(os.path.join(curr_location, f'{uid}.xml'))\n",
    "\n",
    "# createTxtFile('0a1ee4e2-f85f-45ac-8cc6-1ce9299c6444', '001', train_dir)"
   ]
  },
  {
   "cell_type": "code",
   "execution_count": null,
   "id": "f592f772-303d-453e-be9d-9d56b5e466fe",
   "metadata": {},
   "outputs": [],
   "source": [
    "directory_path = os.path.join(data_directory, 'images')\n",
    "\n",
    "# Iterate through each file in the directory\n",
    "for i, filename in enumerate(os.listdir(directory_path)):\n",
    "    if not os.path.isfile(os.path.join(directory_path, filename)): \n",
    "        continue\n",
    "\n",
    "    root_name, _ = os.path.splitext(filename)\n",
    "    \n",
    "    renameAndMoveImgPair(root_name, \"{:012d}\".format(i+1))\n",
    "    createTxtFile(root_name, \"{:012d}\".format(i+1))\n",
    " "
   ]
  },
  {
   "cell_type": "markdown",
   "id": "d1d88bc5-dbcb-487f-abc0-faa69bcf8a3c",
   "metadata": {},
   "source": [
    "## Create Model and begin training"
   ]
  },
  {
   "cell_type": "code",
   "execution_count": null,
   "id": "8d85f920-8fb4-4869-8c47-9d516c3ffd20",
   "metadata": {},
   "outputs": [],
   "source": [
    "!pip install ultralytics"
   ]
  },
  {
   "cell_type": "code",
   "execution_count": null,
   "id": "4a2bcef1-1f25-44d5-8b66-5fade66a1007",
   "metadata": {},
   "outputs": [],
   "source": [
    "from ultralytics import YOLO\n",
    "\n",
    "# Load a model\n",
    "model = YOLO('yolov8n.yaml') \n",
    "model = YOLO('yolov8n.pt') \n",
    "model = YOLO('yolov8n.yaml').load('yolov8n.pt')\n",
    "\n",
    "# Train the model\n",
    "results = model.train(data=f\"{data_directory}/data.yaml\", epochs=10, imgsz=720,486)"
   ]
  }
 ],
 "metadata": {
  "kernelspec": {
   "display_name": "Python 3 (ipykernel)",
   "language": "python",
   "name": "python3"
  },
  "language_info": {
   "codemirror_mode": {
    "name": "ipython",
    "version": 3
   },
   "file_extension": ".py",
   "mimetype": "text/x-python",
   "name": "python",
   "nbconvert_exporter": "python",
   "pygments_lexer": "ipython3",
   "version": "3.8.10"
  }
 },
 "nbformat": 4,
 "nbformat_minor": 5
}
